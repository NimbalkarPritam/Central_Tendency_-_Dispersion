{
 "cells": [
  {
   "cell_type": "code",
   "execution_count": 1,
   "id": "aff56b4e",
   "metadata": {},
   "outputs": [],
   "source": [
    "import pandas as pd"
   ]
  },
  {
   "cell_type": "code",
   "execution_count": 22,
   "id": "e701f5a3",
   "metadata": {},
   "outputs": [],
   "source": [
    "aa=pd.read_csv(\"E:\\Q7.csv\")"
   ]
  },
  {
   "cell_type": "code",
   "execution_count": 11,
   "id": "d4aea0bf",
   "metadata": {},
   "outputs": [
    {
     "data": {
      "text/plain": [
       "3.5965625000000006"
      ]
     },
     "execution_count": 11,
     "metadata": {},
     "output_type": "execute_result"
    }
   ],
   "source": [
    "aa.Points.mean()"
   ]
  },
  {
   "cell_type": "code",
   "execution_count": 7,
   "id": "2c509f31",
   "metadata": {},
   "outputs": [
    {
     "data": {
      "text/plain": [
       "3.2172499999999995"
      ]
     },
     "execution_count": 7,
     "metadata": {},
     "output_type": "execute_result"
    }
   ],
   "source": [
    "aa.Score.mean()"
   ]
  },
  {
   "cell_type": "code",
   "execution_count": 8,
   "id": "0475bd56",
   "metadata": {},
   "outputs": [
    {
     "data": {
      "text/plain": [
       "17.848750000000003"
      ]
     },
     "execution_count": 8,
     "metadata": {},
     "output_type": "execute_result"
    }
   ],
   "source": [
    "aa.Weigh.mean()"
   ]
  },
  {
   "cell_type": "code",
   "execution_count": 13,
   "id": "c19909c2",
   "metadata": {},
   "outputs": [
    {
     "data": {
      "text/plain": [
       "3.6950000000000003"
      ]
     },
     "execution_count": 13,
     "metadata": {},
     "output_type": "execute_result"
    }
   ],
   "source": [
    "aa.Points.median()"
   ]
  },
  {
   "cell_type": "code",
   "execution_count": 14,
   "id": "24262bfb",
   "metadata": {},
   "outputs": [
    {
     "data": {
      "text/plain": [
       "3.325"
      ]
     },
     "execution_count": 14,
     "metadata": {},
     "output_type": "execute_result"
    }
   ],
   "source": [
    "aa.Score.median()"
   ]
  },
  {
   "cell_type": "code",
   "execution_count": 20,
   "id": "9fc926e8",
   "metadata": {},
   "outputs": [
    {
     "data": {
      "text/plain": [
       "17.71"
      ]
     },
     "execution_count": 20,
     "metadata": {},
     "output_type": "execute_result"
    }
   ],
   "source": [
    "aa.Weigh.median()"
   ]
  },
  {
   "cell_type": "code",
   "execution_count": 23,
   "id": "200b9e01",
   "metadata": {},
   "outputs": [
    {
     "data": {
      "text/plain": [
       "0    3.07\n",
       "1    3.92\n",
       "dtype: float64"
      ]
     },
     "execution_count": 23,
     "metadata": {},
     "output_type": "execute_result"
    }
   ],
   "source": [
    "aa.Points.mode()"
   ]
  },
  {
   "cell_type": "code",
   "execution_count": 18,
   "id": "d5278744",
   "metadata": {},
   "outputs": [
    {
     "data": {
      "text/plain": [
       "0    3.44\n",
       "dtype: float64"
      ]
     },
     "execution_count": 18,
     "metadata": {},
     "output_type": "execute_result"
    }
   ],
   "source": [
    "aa.Score.mode()"
   ]
  },
  {
   "cell_type": "code",
   "execution_count": 24,
   "id": "f58ab120",
   "metadata": {},
   "outputs": [
    {
     "data": {
      "text/plain": [
       "0    17.02\n",
       "1    18.90\n",
       "dtype: float64"
      ]
     },
     "execution_count": 24,
     "metadata": {},
     "output_type": "execute_result"
    }
   ],
   "source": [
    "aa.Weigh.mode()"
   ]
  },
  {
   "cell_type": "code",
   "execution_count": 25,
   "id": "61993e5a",
   "metadata": {},
   "outputs": [],
   "source": [
    "rangeP=aa.Points.max()-aa.Points.min()"
   ]
  },
  {
   "cell_type": "code",
   "execution_count": 26,
   "id": "b4f3a856",
   "metadata": {},
   "outputs": [
    {
     "data": {
      "text/plain": [
       "2.17"
      ]
     },
     "execution_count": 26,
     "metadata": {},
     "output_type": "execute_result"
    }
   ],
   "source": [
    "rangeP"
   ]
  },
  {
   "cell_type": "code",
   "execution_count": 29,
   "id": "f4db58de",
   "metadata": {},
   "outputs": [],
   "source": [
    "rangeS=aa.Score.max()-aa.Score.min()"
   ]
  },
  {
   "cell_type": "code",
   "execution_count": 30,
   "id": "17f61417",
   "metadata": {},
   "outputs": [
    {
     "data": {
      "text/plain": [
       "3.9110000000000005"
      ]
     },
     "execution_count": 30,
     "metadata": {},
     "output_type": "execute_result"
    }
   ],
   "source": [
    "rangeS"
   ]
  },
  {
   "cell_type": "code",
   "execution_count": 33,
   "id": "15262829",
   "metadata": {},
   "outputs": [],
   "source": [
    "rangeW=aa.Weigh.max()-aa.Weigh.min()"
   ]
  },
  {
   "cell_type": "code",
   "execution_count": 34,
   "id": "2cafb48c",
   "metadata": {},
   "outputs": [
    {
     "data": {
      "text/plain": [
       "8.399999999999999"
      ]
     },
     "execution_count": 34,
     "metadata": {},
     "output_type": "execute_result"
    }
   ],
   "source": [
    "rangeW"
   ]
  },
  {
   "cell_type": "code",
   "execution_count": 36,
   "id": "d879a281",
   "metadata": {},
   "outputs": [
    {
     "data": {
      "text/plain": [
       "0.28588135080645166"
      ]
     },
     "execution_count": 36,
     "metadata": {},
     "output_type": "execute_result"
    }
   ],
   "source": [
    "aa.Points.var()"
   ]
  },
  {
   "cell_type": "code",
   "execution_count": 37,
   "id": "9ab6d742",
   "metadata": {},
   "outputs": [
    {
     "data": {
      "text/plain": [
       "0.9573789677419356"
      ]
     },
     "execution_count": 37,
     "metadata": {},
     "output_type": "execute_result"
    }
   ],
   "source": [
    "aa.Score.var()"
   ]
  },
  {
   "cell_type": "code",
   "execution_count": 38,
   "id": "1b7d2114",
   "metadata": {},
   "outputs": [
    {
     "data": {
      "text/plain": [
       "3.193166129032258"
      ]
     },
     "execution_count": 38,
     "metadata": {},
     "output_type": "execute_result"
    }
   ],
   "source": [
    "aa.Weigh.var()"
   ]
  },
  {
   "cell_type": "code",
   "execution_count": 39,
   "id": "1ea18ec0",
   "metadata": {},
   "outputs": [
    {
     "data": {
      "text/plain": [
       "0.5346787360709716"
      ]
     },
     "execution_count": 39,
     "metadata": {},
     "output_type": "execute_result"
    }
   ],
   "source": [
    "aa.Points.std()"
   ]
  },
  {
   "cell_type": "code",
   "execution_count": 40,
   "id": "d71d1e29",
   "metadata": {},
   "outputs": [
    {
     "data": {
      "text/plain": [
       "0.9784574429896967"
      ]
     },
     "execution_count": 40,
     "metadata": {},
     "output_type": "execute_result"
    }
   ],
   "source": [
    "aa.Score.std()"
   ]
  },
  {
   "cell_type": "code",
   "execution_count": 41,
   "id": "a26d77af",
   "metadata": {},
   "outputs": [
    {
     "data": {
      "text/plain": [
       "1.7869432360968431"
      ]
     },
     "execution_count": 41,
     "metadata": {},
     "output_type": "execute_result"
    }
   ],
   "source": [
    "aa.Weigh.std()"
   ]
  },
  {
   "cell_type": "code",
   "execution_count": 42,
   "id": "d0794fba",
   "metadata": {},
   "outputs": [],
   "source": [
    "bb=pd.read_csv(\"E:\\Q9_a.csv\")"
   ]
  },
  {
   "cell_type": "code",
   "execution_count": 44,
   "id": "0afbb515",
   "metadata": {},
   "outputs": [
    {
     "data": {
      "text/plain": [
       "-0.11750986144663393"
      ]
     },
     "execution_count": 44,
     "metadata": {},
     "output_type": "execute_result"
    }
   ],
   "source": [
    "bb.speed.skew()"
   ]
  },
  {
   "cell_type": "code",
   "execution_count": 45,
   "id": "b6249df6",
   "metadata": {},
   "outputs": [
    {
     "data": {
      "text/plain": [
       "0.8068949601674215"
      ]
     },
     "execution_count": 45,
     "metadata": {},
     "output_type": "execute_result"
    }
   ],
   "source": [
    "bb.dist.skew()"
   ]
  },
  {
   "cell_type": "code",
   "execution_count": 46,
   "id": "b7d8856c",
   "metadata": {},
   "outputs": [
    {
     "data": {
      "text/plain": [
       "-0.5089944204057617"
      ]
     },
     "execution_count": 46,
     "metadata": {},
     "output_type": "execute_result"
    }
   ],
   "source": [
    "bb.speed.kurtosis()"
   ]
  },
  {
   "cell_type": "code",
   "execution_count": 47,
   "id": "c0f1cd2d",
   "metadata": {},
   "outputs": [
    {
     "data": {
      "text/plain": [
       "0.4050525816795765"
      ]
     },
     "execution_count": 47,
     "metadata": {},
     "output_type": "execute_result"
    }
   ],
   "source": [
    "bb.dist.kurtosis()"
   ]
  },
  {
   "cell_type": "code",
   "execution_count": 48,
   "id": "2f4b625f",
   "metadata": {},
   "outputs": [],
   "source": [
    "cc=pd.read_csv(\"E:\\Q9_b.csv\")"
   ]
  },
  {
   "cell_type": "code",
   "execution_count": 49,
   "id": "8109d970",
   "metadata": {},
   "outputs": [
    {
     "data": {
      "text/plain": [
       "1.6114501961773586"
      ]
     },
     "execution_count": 49,
     "metadata": {},
     "output_type": "execute_result"
    }
   ],
   "source": [
    "cc.SP.skew()"
   ]
  },
  {
   "cell_type": "code",
   "execution_count": 50,
   "id": "63e67a20",
   "metadata": {},
   "outputs": [
    {
     "data": {
      "text/plain": [
       "-0.6147533255357768"
      ]
     },
     "execution_count": 50,
     "metadata": {},
     "output_type": "execute_result"
    }
   ],
   "source": [
    "cc.WT.skew()"
   ]
  },
  {
   "cell_type": "code",
   "execution_count": 52,
   "id": "92c3453f",
   "metadata": {},
   "outputs": [
    {
     "data": {
      "text/plain": [
       "2.9773289437871835"
      ]
     },
     "execution_count": 52,
     "metadata": {},
     "output_type": "execute_result"
    }
   ],
   "source": [
    "cc.SP.kurtosis()"
   ]
  },
  {
   "cell_type": "code",
   "execution_count": 53,
   "id": "cb9b8685",
   "metadata": {},
   "outputs": [
    {
     "data": {
      "text/plain": [
       "0.9502914910300326"
      ]
     },
     "execution_count": 53,
     "metadata": {},
     "output_type": "execute_result"
    }
   ],
   "source": [
    "cc.WT.kurtosis()"
   ]
  },
  {
   "cell_type": "code",
   "execution_count": 58,
   "id": "e66f5c8c",
   "metadata": {},
   "outputs": [],
   "source": [
    "import numpy as np"
   ]
  },
  {
   "cell_type": "code",
   "execution_count": 59,
   "id": "a65cb68e",
   "metadata": {},
   "outputs": [],
   "source": [
    "sample=[34,36,36,38,38,39,39,40,40,41,41,41,41,42,42,45,49,56]"
   ]
  },
  {
   "cell_type": "code",
   "execution_count": 60,
   "id": "0bb99294",
   "metadata": {},
   "outputs": [
    {
     "data": {
      "text/plain": [
       "41.0"
      ]
     },
     "execution_count": 60,
     "metadata": {},
     "output_type": "execute_result"
    }
   ],
   "source": [
    "np.mean(sample)"
   ]
  },
  {
   "cell_type": "code",
   "execution_count": 61,
   "id": "1cf21b31",
   "metadata": {},
   "outputs": [
    {
     "data": {
      "text/plain": [
       "40.5"
      ]
     },
     "execution_count": 61,
     "metadata": {},
     "output_type": "execute_result"
    }
   ],
   "source": [
    "np.median(sample)"
   ]
  },
  {
   "cell_type": "code",
   "execution_count": 62,
   "id": "ca4eccea",
   "metadata": {},
   "outputs": [
    {
     "data": {
      "text/plain": [
       "24.11111111111111"
      ]
     },
     "execution_count": 62,
     "metadata": {},
     "output_type": "execute_result"
    }
   ],
   "source": [
    "np.var(sample)"
   ]
  },
  {
   "cell_type": "code",
   "execution_count": 63,
   "id": "f3e64adf",
   "metadata": {},
   "outputs": [
    {
     "data": {
      "text/plain": [
       "4.910306620885412"
      ]
     },
     "execution_count": 63,
     "metadata": {},
     "output_type": "execute_result"
    }
   ],
   "source": [
    "np.std(sample)"
   ]
  },
  {
   "cell_type": "code",
   "execution_count": null,
   "id": "c8a5a45d",
   "metadata": {},
   "outputs": [],
   "source": []
  }
 ],
 "metadata": {
  "kernelspec": {
   "display_name": "Python 3",
   "language": "python",
   "name": "python3"
  },
  "language_info": {
   "codemirror_mode": {
    "name": "ipython",
    "version": 3
   },
   "file_extension": ".py",
   "mimetype": "text/x-python",
   "name": "python",
   "nbconvert_exporter": "python",
   "pygments_lexer": "ipython3",
   "version": "3.8.8"
  }
 },
 "nbformat": 4,
 "nbformat_minor": 5
}
